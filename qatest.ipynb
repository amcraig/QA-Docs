{
 "cells": [
  {
   "cell_type": "markdown",
   "metadata": {},
   "source": [
    "## Best practices brainstorm\n",
    "\n",
    "I’m creating this doc to keep track of ideas around how QA should be testing. We have a lot of information scattered throughout email, docs, jira, etc. I wanted one place we could use to get the conversation started. Once this has achieved critical mass, we can move things into Jira and make a real best practices doc for testers to follow.\n"
   ]
  },
  {
   "cell_type": "markdown",
   "metadata": {},
   "source": [
    "### Table of Contents:\n",
    "* <a href='#maestrobasics'> First Item </a>"
   ]
  },
  {
   "cell_type": "markdown",
   "metadata": {},
   "source": [
    "# FILLER\n",
    "# FILLER\n",
    "# FILLER\n",
    "# FILLER\n",
    "# FILLER\n",
    "# FILLER\n",
    "# FILLER\n",
    "# FILLER\n",
    "# FILLER\n",
    "# FILLER\n",
    "# FILLER\n",
    "# FILLER\n",
    "# FILLER\n",
    "# FILLER\n",
    "# FILLER\n",
    "# FILLER\n",
    "# FILLER\n",
    "# FILLER\n",
    "# FILLER\n",
    "# FILLER\n",
    "# FILLER\n",
    "# FILLER\n",
    "# FILLER\n",
    "# FILLER\n",
    "# FILLER\n",
    "# FILLER\n",
    "# FILLER\n",
    "# FILLER\n",
    "# FILLER\n",
    "# FILLER\n",
    "# FILLER\n",
    "# FILLER\n",
    "# FILLER\n",
    "# FILLER\n"
   ]
  },
  {
   "cell_type": "code",
   "execution_count": 4,
   "metadata": {},
   "outputs": [
    {
     "name": "stdout",
     "output_type": "stream",
     "text": [
      "README.md\n",
      "qatest.ipynb\n"
     ]
    }
   ],
   "source": [
    "%%bash \n",
    "ls"
   ]
  },
  {
   "cell_type": "markdown",
   "metadata": {},
   "source": [
    "## Launching Maestro \n",
    "To launch Maestro "
   ]
  },
  {
   "cell_type": "code",
   "execution_count": null,
   "metadata": {},
   "outputs": [],
   "source": [
    "%%bash \n",
    "$SCHRODINGER/maestro -console"
   ]
  },
  {
   "cell_type": "markdown",
   "metadata": {},
   "source": [
    "<a id='maestrobasics'></a>"
   ]
  },
  {
   "cell_type": "markdown",
   "metadata": {},
   "source": [
    "## Learn Maestro basics:\n",
    "Why we need it:\n",
    "Maestro is the parent GUI through which all other applications we sell are run. So, regardless of what you’re testing you should have a basic understanding of how to install and run maestro.\n",
    "\n",
    "The first step: Installing SCHRODINGER:\n",
    "To install a given OB, go to `bash/nfs/installers/OB/20xx-x/buildxx/bundles/your_platform`, copy the file over, and uncompress it.   Set the SCHRODINGER environment variable:    \n",
    "\n",
    "```bash\n",
    "export SCHRODINGER=/path/to/where/you/want/to/install\n",
    "```\n",
    "\n",
    "On linux, run `./INSTALL` in the uncompressed directory. On other platforms, click the installer icon. Follow the prompts from there."
   ]
  },
  {
   "cell_type": "code",
   "execution_count": null,
   "metadata": {},
   "outputs": [],
   "source": []
  }
 ],
 "metadata": {
  "kernelspec": {
   "display_name": "Python 3",
   "language": "python",
   "name": "python3"
  },
  "language_info": {
   "codemirror_mode": {
    "name": "ipython",
    "version": 3
   },
   "file_extension": ".py",
   "mimetype": "text/x-python",
   "name": "python",
   "nbconvert_exporter": "python",
   "pygments_lexer": "ipython3",
   "version": "3.6.3"
  }
 },
 "nbformat": 4,
 "nbformat_minor": 2
}
